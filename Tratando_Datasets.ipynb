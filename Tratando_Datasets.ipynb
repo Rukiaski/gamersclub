{
 "cells": [
  {
   "cell_type": "markdown",
   "metadata": {},
   "source": [
    "## Tratando os Datasets\n",
    "Neste notebook será realizado o tratamento dos dados"
   ]
  },
  {
   "cell_type": "code",
   "execution_count": 2,
   "metadata": {},
   "outputs": [],
   "source": [
    "import pandas as pd\n",
    "import matplotlib.pyplot as plt"
   ]
  },
  {
   "cell_type": "code",
   "execution_count": 3,
   "metadata": {},
   "outputs": [],
   "source": [
    "#Lendo os dados\n",
    "players = pd.read_table('Teste_Gamers_Club/players.sql')\n",
    "matchmaking_stats = pd.read_table('Teste_Gamers_Club/matchmaking_stats.sql')\n",
    "monthly_stats = pd.read_table('Teste_Gamers_Club/monthly_stats.sql')"
   ]
  },
  {
   "cell_type": "code",
   "execution_count": 4,
   "metadata": {},
   "outputs": [],
   "source": [
    "players = players.drop([0,1])\n",
    "matchmaking_stats = matchmaking_stats.drop([0,1])"
   ]
  },
  {
   "cell_type": "code",
   "execution_count": 5,
   "metadata": {},
   "outputs": [],
   "source": [
    "players = pd.DataFrame(players['insert into players'].str.split(',',1).tolist(), columns=['player_id', 'cadastrado_em'])"
   ]
  },
  {
   "cell_type": "code",
   "execution_count": 6,
   "metadata": {},
   "outputs": [],
   "source": [
    "matchmaking_stats = pd.DataFrame(matchmaking_stats['insert into matchmaking_stats_summary'].str.split(',',10).tolist(),\n",
    "                                columns=['player_id', 'matches_played', 'total_wins', 'total_loss', 'mm_points', 'kills', 'death', 'assist', 'hs', 'created_at', 'updated_at'])"
   ]
  },
  {
   "cell_type": "code",
   "execution_count": 7,
   "metadata": {},
   "outputs": [],
   "source": [
    "monthly_stats = pd.DataFrame(monthly_stats['INSERT INTO player_monthly_stats (player_id, game_mode, ref_date, total_played, kills, deaths, assists, wins, loss, headshots) VALUES '].str.split(',',9).tolist(),\n",
    "                            columns=['player_id', 'game_mode', 'ref_date', 'total_played', 'kills', 'deaths', 'assists', 'wins', 'loss', 'headshots'])"
   ]
  },
  {
   "cell_type": "markdown",
   "metadata": {},
   "source": [
    "### Realizando limpeza nos dados\n",
    "- Remoção de caracteres indesejados, como vírgulas e parenteses\n",
    "- Modificação dos tipos dos dados"
   ]
  },
  {
   "cell_type": "code",
   "execution_count": 8,
   "metadata": {},
   "outputs": [],
   "source": [
    "#Removendo caracteres\n",
    "players['player_id'] = players['player_id'].str.replace('(','')\n",
    "players['cadastrado_em'] = players['cadastrado_em'].str.replace(')','')\n",
    "players['cadastrado_em'] = players['cadastrado_em'].str.replace(',','')\n",
    "players['cadastrado_em'] = players['cadastrado_em'].str.replace(';','')"
   ]
  },
  {
   "cell_type": "code",
   "execution_count": 9,
   "metadata": {},
   "outputs": [],
   "source": [
    "matchmaking_stats['player_id'] = matchmaking_stats['player_id'].str.replace('(','')\n",
    "matchmaking_stats['updated_at'] = matchmaking_stats['updated_at'].str.replace(')','')\n",
    "matchmaking_stats['updated_at'] = matchmaking_stats['updated_at'].str.replace(',','')\n",
    "matchmaking_stats['updated_at'] = matchmaking_stats['updated_at'].str.replace(';','')"
   ]
  },
  {
   "cell_type": "code",
   "execution_count": 10,
   "metadata": {},
   "outputs": [],
   "source": [
    "monthly_stats['player_id'] = monthly_stats['player_id'].str.replace('(','')\n",
    "monthly_stats['headshots'] = monthly_stats['headshots'].str.replace(')','')\n",
    "monthly_stats['headshots'] = monthly_stats['headshots'].str.replace(',','')\n",
    "monthly_stats['headshots'] = monthly_stats['headshots'].str.replace(';','')"
   ]
  },
  {
   "cell_type": "code",
   "execution_count": 11,
   "metadata": {},
   "outputs": [],
   "source": [
    "#Modificando os tipos dos dados\n",
    "players['cadastrado_em'] = pd.to_datetime(players['cadastrado_em'])\n",
    "players['player_id'] = pd.to_numeric(players['player_id'])"
   ]
  },
  {
   "cell_type": "code",
   "execution_count": 12,
   "metadata": {},
   "outputs": [],
   "source": [
    "matchmaking_stats['player_id'] = pd.to_numeric(matchmaking_stats['player_id'])\n",
    "matchmaking_stats['matches_played'] = pd.to_numeric(matchmaking_stats['matches_played'])\n",
    "matchmaking_stats['total_wins'] = pd.to_numeric(matchmaking_stats['total_wins'])\n",
    "matchmaking_stats['total_loss'] = pd.to_numeric(matchmaking_stats['total_loss'])\n",
    "matchmaking_stats['mm_points'] = pd.to_numeric(matchmaking_stats['mm_points'])\n",
    "matchmaking_stats['kills'] = pd.to_numeric(matchmaking_stats['kills'])\n",
    "matchmaking_stats['death'] = pd.to_numeric(matchmaking_stats['death'])\n",
    "matchmaking_stats['assist'] = pd.to_numeric(matchmaking_stats['assist'])\n",
    "matchmaking_stats['hs'] = pd.to_numeric(matchmaking_stats['hs'])\n",
    "matchmaking_stats['created_at'] = pd.to_datetime(matchmaking_stats['created_at'])\n",
    "matchmaking_stats['updated_at'] = pd.to_datetime(matchmaking_stats['updated_at'])"
   ]
  },
  {
   "cell_type": "code",
   "execution_count": 13,
   "metadata": {},
   "outputs": [],
   "source": [
    "monthly_stats['player_id'] = pd.to_numeric(monthly_stats['player_id'])\n",
    "monthly_stats['game_mode'] = 'COMPETITIVO'\n",
    "monthly_stats['ref_date'] = pd.to_datetime(monthly_stats['ref_date'])\n",
    "monthly_stats['total_played'] = pd.to_numeric(monthly_stats['total_played'])\n",
    "monthly_stats['kills'] = pd.to_numeric(monthly_stats['kills'])\n",
    "monthly_stats['deaths'] = pd.to_numeric(monthly_stats['deaths'])\n",
    "monthly_stats['assists'] = pd.to_numeric(monthly_stats['assists'])\n",
    "monthly_stats['wins'] = pd.to_numeric(monthly_stats['wins'])\n",
    "monthly_stats['loss'] = pd.to_numeric(monthly_stats['loss'])\n",
    "monthly_stats['headshots'] = pd.to_numeric(monthly_stats['headshots'])"
   ]
  },
  {
   "cell_type": "markdown",
   "metadata": {},
   "source": [
    "## Para aquecimento\n",
    "1. Quantos usuários únicos não jogaram após o dia 03/02/2020?"
   ]
  },
  {
   "cell_type": "code",
   "execution_count": 14,
   "metadata": {},
   "outputs": [],
   "source": [
    "# Selecionando os dados com data até 03/02\n",
    "jogadores_antes_1 = matchmaking_stats['updated_at']<'2020-02-04'\n",
    "jogadores_antes_1 = matchmaking_stats[jogadores_antes_1]"
   ]
  },
  {
   "cell_type": "code",
   "execution_count": 15,
   "metadata": {},
   "outputs": [],
   "source": [
    "# Selecionado dados após 03/02\n",
    "jogadores_apos_1 = matchmaking_stats['updated_at']>'2020-02-04'\n",
    "jogadores_apos_1 = matchmaking_stats[jogadores_apos_1]"
   ]
  },
  {
   "cell_type": "code",
   "execution_count": 16,
   "metadata": {},
   "outputs": [],
   "source": [
    "# Usando teoria dos conjutos para tirar a diferença entre os jogadores que jogaram até 03/02\n",
    "# pelos jogadores que jogaram a partir de 04/02.\n",
    "# O resultado é um conjunto com os player_id unicos que jogaram somente até 03/02\n",
    "unicos_1 = set(jogadores_antes_1['player_id'].unique()).difference(set(jogadores_apos_1['player_id'].unique()))"
   ]
  },
  {
   "cell_type": "code",
   "execution_count": 17,
   "metadata": {},
   "outputs": [
    {
     "data": {
      "text/plain": [
       "1035"
      ]
     },
     "execution_count": 17,
     "metadata": {},
     "output_type": "execute_result"
    }
   ],
   "source": [
    "len(unicos_1)"
   ]
  },
  {
   "cell_type": "markdown",
   "metadata": {},
   "source": [
    "2. Quantos usuários únicos jogaram em fevereiro após o dia 06/02/2020? "
   ]
  },
  {
   "cell_type": "code",
   "execution_count": 18,
   "metadata": {},
   "outputs": [],
   "source": [
    "jogadores_antes_2 = matchmaking_stats['updated_at']<'2020-02-07'\n",
    "jogadores_antes_2 = matchmaking_stats[jogadores_antes_2]"
   ]
  },
  {
   "cell_type": "code",
   "execution_count": 19,
   "metadata": {},
   "outputs": [],
   "source": [
    "jogadores_apos_2 = matchmaking_stats['updated_at']>'2020-02-07'\n",
    "jogadores_apos_2 = matchmaking_stats[jogadores_apos_2]"
   ]
  },
  {
   "cell_type": "code",
   "execution_count": 20,
   "metadata": {},
   "outputs": [],
   "source": [
    "unicos_2 = set(jogadores_apos_2['player_id'].unique()).difference(set(jogadores_antes_2['player_id'].unique()))"
   ]
  },
  {
   "cell_type": "code",
   "execution_count": 21,
   "metadata": {},
   "outputs": [
    {
     "data": {
      "text/plain": [
       "0"
      ]
     },
     "execution_count": 21,
     "metadata": {},
     "output_type": "execute_result"
    }
   ],
   "source": [
    "len(unicos_2)"
   ]
  },
  {
   "cell_type": "markdown",
   "metadata": {},
   "source": [
    "3. Em qual dia mais jogadores deixaram de jogar no mês de fevereiro?"
   ]
  },
  {
   "cell_type": "code",
   "execution_count": 22,
   "metadata": {},
   "outputs": [
    {
     "data": {
      "text/plain": [
       "2020-02-02    411\n",
       "2020-02-05    341\n",
       "2020-02-06    332\n",
       "2020-02-04    331\n",
       "2020-02-01    328\n",
       "2020-02-03    314\n",
       "Name: updated_at, dtype: int64"
      ]
     },
     "execution_count": 22,
     "metadata": {},
     "output_type": "execute_result"
    }
   ],
   "source": [
    "matchmaking_stats['updated_at'].dt.strftime('%Y-%m-%d').value_counts()"
   ]
  },
  {
   "cell_type": "markdown",
   "metadata": {},
   "source": [
    "## Correlações"
   ]
  },
  {
   "cell_type": "code",
   "execution_count": 52,
   "metadata": {},
   "outputs": [],
   "source": [
    "mm_stats = matchmaking_stats[['matches_played','total_wins', 'total_loss','mm_points', 'kills', 'death', 'assist', 'hs']]\n",
    "mth_stats = monthly_stats[['total_played', 'kills', 'deaths', 'assists', 'wins', 'loss', 'headshots']]"
   ]
  },
  {
   "cell_type": "code",
   "execution_count": 51,
   "metadata": {
    "scrolled": true
   },
   "outputs": [
    {
     "data": {
      "image/png": "[encoded data removed]",
      "text/plain": [
       "<Figure size 1368x1080 with 2 Axes>"
      ]
     },
     "metadata": {
      "needs_background": "light"
     },
     "output_type": "display_data"
    }
   ],
   "source": [
    "f = plt.figure(figsize=(19, 15))\n",
    "plt.matshow(mm_stats.corr(), fignum=f.number)\n",
    "plt.xticks(range(mm_stats.shape[1]), mm_stats.columns, fontsize=14, rotation=90)\n",
    "plt.yticks(range(mm_stats.shape[1]), mm_stats.columns, fontsize=14)\n",
    "cb = plt.colorbar()\n",
    "cb.ax.tick_params(labelsize=14)\n",
    "plt.savefig(\"matchmaking_corr.png\")"
   ]
  },
  {
   "cell_type": "code",
   "execution_count": 58,
   "metadata": {},
   "outputs": [
    {
     "data": {
      "image/png": "[encoded data removed]",
      "text/plain": [
       "<Figure size 1368x1080 with 2 Axes>"
      ]
     },
     "metadata": {
      "needs_background": "light"
     },
     "output_type": "display_data"
    }
   ],
   "source": [
    "f = plt.figure(figsize=(19, 15))\n",
    "plt.matshow(mth_stats.corr(), fignum=f.number)\n",
    "plt.xticks(range(mth_stats.shape[1]), mth_stats.columns, fontsize=14, rotation=90)\n",
    "plt.yticks(range(mth_stats.shape[1]), mth_stats.columns, fontsize=14)\n",
    "cb = plt.colorbar()\n",
    "cb.ax.tick_params(labelsize=14)\n",
    "plt.savefig(\"monthly_corr.png\")"
   ]
  },
  {
   "cell_type": "code",
   "execution_count": 63,
   "metadata": {},
   "outputs": [
    {
     "data": {
      "text/html": [
       "<style  type=\"text/css\" >\n",
       "    #T_569e70ac_6a10_11ea_a87d_681401f753c5row0_col0 {\n",
       "            background-color:  #023858;\n",
       "            color:  #f1f1f1;\n",
       "        }    #T_569e70ac_6a10_11ea_a87d_681401f753c5row0_col1 {\n",
       "            background-color:  #0771b1;\n",
       "            color:  #f1f1f1;\n",
       "        }    #T_569e70ac_6a10_11ea_a87d_681401f753c5row0_col2 {\n",
       "            background-color:  #046198;\n",
       "            color:  #f1f1f1;\n",
       "        }    #T_569e70ac_6a10_11ea_a87d_681401f753c5row0_col3 {\n",
       "            background-color:  #4c99c5;\n",
       "            color:  #000000;\n",
       "        }    #T_569e70ac_6a10_11ea_a87d_681401f753c5row0_col4 {\n",
       "            background-color:  #045382;\n",
       "            color:  #f1f1f1;\n",
       "        }    #T_569e70ac_6a10_11ea_a87d_681401f753c5row0_col5 {\n",
       "            background-color:  #03446a;\n",
       "            color:  #f1f1f1;\n",
       "        }    #T_569e70ac_6a10_11ea_a87d_681401f753c5row0_col6 {\n",
       "            background-color:  #04649d;\n",
       "            color:  #f1f1f1;\n",
       "        }    #T_569e70ac_6a10_11ea_a87d_681401f753c5row0_col7 {\n",
       "            background-color:  #2081b9;\n",
       "            color:  #000000;\n",
       "        }    #T_569e70ac_6a10_11ea_a87d_681401f753c5row1_col0 {\n",
       "            background-color:  #308cbe;\n",
       "            color:  #000000;\n",
       "        }    #T_569e70ac_6a10_11ea_a87d_681401f753c5row1_col1 {\n",
       "            background-color:  #023858;\n",
       "            color:  #f1f1f1;\n",
       "        }    #T_569e70ac_6a10_11ea_a87d_681401f753c5row1_col2 {\n",
       "            background-color:  #9ab8d8;\n",
       "            color:  #000000;\n",
       "        }    #T_569e70ac_6a10_11ea_a87d_681401f753c5row1_col3 {\n",
       "            background-color:  #034c78;\n",
       "            color:  #f1f1f1;\n",
       "        }    #T_569e70ac_6a10_11ea_a87d_681401f753c5row1_col4 {\n",
       "            background-color:  #2f8bbe;\n",
       "            color:  #000000;\n",
       "        }    #T_569e70ac_6a10_11ea_a87d_681401f753c5row1_col5 {\n",
       "            background-color:  #4a98c5;\n",
       "            color:  #000000;\n",
       "        }    #T_569e70ac_6a10_11ea_a87d_681401f753c5row1_col6 {\n",
       "            background-color:  #4a98c5;\n",
       "            color:  #000000;\n",
       "        }    #T_569e70ac_6a10_11ea_a87d_681401f753c5row1_col7 {\n",
       "            background-color:  #569dc8;\n",
       "            color:  #000000;\n",
       "        }    #T_569e70ac_6a10_11ea_a87d_681401f753c5row2_col0 {\n",
       "            background-color:  #3f93c2;\n",
       "            color:  #000000;\n",
       "        }    #T_569e70ac_6a10_11ea_a87d_681401f753c5row2_col1 {\n",
       "            background-color:  #fff7fb;\n",
       "            color:  #000000;\n",
       "        }    #T_569e70ac_6a10_11ea_a87d_681401f753c5row2_col2 {\n",
       "            background-color:  #023858;\n",
       "            color:  #f1f1f1;\n",
       "        }    #T_569e70ac_6a10_11ea_a87d_681401f753c5row2_col3 {\n",
       "            background-color:  #fff7fb;\n",
       "            color:  #000000;\n",
       "        }    #T_569e70ac_6a10_11ea_a87d_681401f753c5row2_col4 {\n",
       "            background-color:  #c6cce3;\n",
       "            color:  #000000;\n",
       "        }    #T_569e70ac_6a10_11ea_a87d_681401f753c5row2_col5 {\n",
       "            background-color:  #2484ba;\n",
       "            color:  #000000;\n",
       "        }    #T_569e70ac_6a10_11ea_a87d_681401f753c5row2_col6 {\n",
       "            background-color:  #d2d3e7;\n",
       "            color:  #000000;\n",
       "        }    #T_569e70ac_6a10_11ea_a87d_681401f753c5row2_col7 {\n",
       "            background-color:  #fff7fb;\n",
       "            color:  #000000;\n",
       "        }    #T_569e70ac_6a10_11ea_a87d_681401f753c5row3_col0 {\n",
       "            background-color:  #fff7fb;\n",
       "            color:  #000000;\n",
       "        }    #T_569e70ac_6a10_11ea_a87d_681401f753c5row3_col1 {\n",
       "            background-color:  #045a8d;\n",
       "            color:  #f1f1f1;\n",
       "        }    #T_569e70ac_6a10_11ea_a87d_681401f753c5row3_col2 {\n",
       "            background-color:  #fff7fb;\n",
       "            color:  #000000;\n",
       "        }    #T_569e70ac_6a10_11ea_a87d_681401f753c5row3_col3 {\n",
       "            background-color:  #023858;\n",
       "            color:  #f1f1f1;\n",
       "        }    #T_569e70ac_6a10_11ea_a87d_681401f753c5row3_col4 {\n",
       "            background-color:  #fff7fb;\n",
       "            color:  #000000;\n",
       "        }    #T_569e70ac_6a10_11ea_a87d_681401f753c5row3_col5 {\n",
       "            background-color:  #fff7fb;\n",
       "            color:  #000000;\n",
       "        }    #T_569e70ac_6a10_11ea_a87d_681401f753c5row3_col6 {\n",
       "            background-color:  #fff7fb;\n",
       "            color:  #000000;\n",
       "        }    #T_569e70ac_6a10_11ea_a87d_681401f753c5row3_col7 {\n",
       "            background-color:  #f8f1f8;\n",
       "            color:  #000000;\n",
       "        }    #T_569e70ac_6a10_11ea_a87d_681401f753c5row4_col0 {\n",
       "            background-color:  #034e7b;\n",
       "            color:  #f1f1f1;\n",
       "        }    #T_569e70ac_6a10_11ea_a87d_681401f753c5row4_col1 {\n",
       "            background-color:  #0569a5;\n",
       "            color:  #f1f1f1;\n",
       "        }    #T_569e70ac_6a10_11ea_a87d_681401f753c5row4_col2 {\n",
       "            background-color:  #0570b0;\n",
       "            color:  #f1f1f1;\n",
       "        }    #T_569e70ac_6a10_11ea_a87d_681401f753c5row4_col3 {\n",
       "            background-color:  #2d8abd;\n",
       "            color:  #000000;\n",
       "        }    #T_569e70ac_6a10_11ea_a87d_681401f753c5row4_col4 {\n",
       "            background-color:  #023858;\n",
       "            color:  #f1f1f1;\n",
       "        }    #T_569e70ac_6a10_11ea_a87d_681401f753c5row4_col5 {\n",
       "            background-color:  #034c78;\n",
       "            color:  #f1f1f1;\n",
       "        }    #T_569e70ac_6a10_11ea_a87d_681401f753c5row4_col6 {\n",
       "            background-color:  #045f95;\n",
       "            color:  #f1f1f1;\n",
       "        }    #T_569e70ac_6a10_11ea_a87d_681401f753c5row4_col7 {\n",
       "            background-color:  #046198;\n",
       "            color:  #f1f1f1;\n",
       "        }    #T_569e70ac_6a10_11ea_a87d_681401f753c5row5_col0 {\n",
       "            background-color:  #03456c;\n",
       "            color:  #f1f1f1;\n",
       "        }    #T_569e70ac_6a10_11ea_a87d_681401f753c5row5_col1 {\n",
       "            background-color:  #2484ba;\n",
       "            color:  #000000;\n",
       "        }    #T_569e70ac_6a10_11ea_a87d_681401f753c5row5_col2 {\n",
       "            background-color:  #045f95;\n",
       "            color:  #f1f1f1;\n",
       "        }    #T_569e70ac_6a10_11ea_a87d_681401f753c5row5_col3 {\n",
       "            background-color:  #65a3cb;\n",
       "            color:  #000000;\n",
       "        }    #T_569e70ac_6a10_11ea_a87d_681401f753c5row5_col4 {\n",
       "            background-color:  #045483;\n",
       "            color:  #f1f1f1;\n",
       "        }    #T_569e70ac_6a10_11ea_a87d_681401f753c5row5_col5 {\n",
       "            background-color:  #023858;\n",
       "            color:  #f1f1f1;\n",
       "        }    #T_569e70ac_6a10_11ea_a87d_681401f753c5row5_col6 {\n",
       "            background-color:  #046299;\n",
       "            color:  #f1f1f1;\n",
       "        }    #T_569e70ac_6a10_11ea_a87d_681401f753c5row5_col7 {\n",
       "            background-color:  #2484ba;\n",
       "            color:  #000000;\n",
       "        }    #T_569e70ac_6a10_11ea_a87d_681401f753c5row6_col0 {\n",
       "            background-color:  #046097;\n",
       "            color:  #f1f1f1;\n",
       "        }    #T_569e70ac_6a10_11ea_a87d_681401f753c5row6_col1 {\n",
       "            background-color:  #0a73b2;\n",
       "            color:  #f1f1f1;\n",
       "        }    #T_569e70ac_6a10_11ea_a87d_681401f753c5row6_col2 {\n",
       "            background-color:  #1278b4;\n",
       "            color:  #f1f1f1;\n",
       "        }    #T_569e70ac_6a10_11ea_a87d_681401f753c5row6_col3 {\n",
       "            background-color:  #358fc0;\n",
       "            color:  #000000;\n",
       "        }    #T_569e70ac_6a10_11ea_a87d_681401f753c5row6_col4 {\n",
       "            background-color:  #046198;\n",
       "            color:  #f1f1f1;\n",
       "        }    #T_569e70ac_6a10_11ea_a87d_681401f753c5row6_col5 {\n",
       "            background-color:  #045b8f;\n",
       "            color:  #f1f1f1;\n",
       "        }    #T_569e70ac_6a10_11ea_a87d_681401f753c5row6_col6 {\n",
       "            background-color:  #023858;\n",
       "            color:  #f1f1f1;\n",
       "        }    #T_569e70ac_6a10_11ea_a87d_681401f753c5row6_col7 {\n",
       "            background-color:  #328dbf;\n",
       "            color:  #000000;\n",
       "        }    #T_569e70ac_6a10_11ea_a87d_681401f753c5row7_col0 {\n",
       "            background-color:  #0f76b3;\n",
       "            color:  #f1f1f1;\n",
       "        }    #T_569e70ac_6a10_11ea_a87d_681401f753c5row7_col1 {\n",
       "            background-color:  #0c74b2;\n",
       "            color:  #f1f1f1;\n",
       "        }    #T_569e70ac_6a10_11ea_a87d_681401f753c5row7_col2 {\n",
       "            background-color:  #308cbe;\n",
       "            color:  #000000;\n",
       "        }    #T_569e70ac_6a10_11ea_a87d_681401f753c5row7_col3 {\n",
       "            background-color:  #2a88bc;\n",
       "            color:  #000000;\n",
       "        }    #T_569e70ac_6a10_11ea_a87d_681401f753c5row7_col4 {\n",
       "            background-color:  #04629a;\n",
       "            color:  #f1f1f1;\n",
       "        }    #T_569e70ac_6a10_11ea_a87d_681401f753c5row7_col5 {\n",
       "            background-color:  #0771b1;\n",
       "            color:  #f1f1f1;\n",
       "        }    #T_569e70ac_6a10_11ea_a87d_681401f753c5row7_col6 {\n",
       "            background-color:  #2f8bbe;\n",
       "            color:  #000000;\n",
       "        }    #T_569e70ac_6a10_11ea_a87d_681401f753c5row7_col7 {\n",
       "            background-color:  #023858;\n",
       "            color:  #f1f1f1;\n",
       "        }</style><table id=\"T_569e70ac_6a10_11ea_a87d_681401f753c5\" ><thead>    <tr>        <th class=\"blank level0\" ></th>        <th class=\"col_heading level0 col0\" >matches_played</th>        <th class=\"col_heading level0 col1\" >total_wins</th>        <th class=\"col_heading level0 col2\" >total_loss</th>        <th class=\"col_heading level0 col3\" >mm_points</th>        <th class=\"col_heading level0 col4\" >kills</th>        <th class=\"col_heading level0 col5\" >death</th>        <th class=\"col_heading level0 col6\" >assist</th>        <th class=\"col_heading level0 col7\" >hs</th>    </tr></thead><tbody>\n",
       "                <tr>\n",
       "                        <th id=\"T_569e70ac_6a10_11ea_a87d_681401f753c5level0_row0\" class=\"row_heading level0 row0\" >matches_played</th>\n",
       "                        <td id=\"T_569e70ac_6a10_11ea_a87d_681401f753c5row0_col0\" class=\"data row0 col0\" >1.000000</td>\n",
       "                        <td id=\"T_569e70ac_6a10_11ea_a87d_681401f753c5row0_col1\" class=\"data row0 col1\" >0.887964</td>\n",
       "                        <td id=\"T_569e70ac_6a10_11ea_a87d_681401f753c5row0_col2\" class=\"data row0 col2\" >0.878356</td>\n",
       "                        <td id=\"T_569e70ac_6a10_11ea_a87d_681401f753c5row0_col3\" class=\"data row0 col3\" >0.689930</td>\n",
       "                        <td id=\"T_569e70ac_6a10_11ea_a87d_681401f753c5row0_col4\" class=\"data row0 col4\" >0.974546</td>\n",
       "                        <td id=\"T_569e70ac_6a10_11ea_a87d_681401f753c5row0_col5\" class=\"data row0 col5\" >0.984908</td>\n",
       "                        <td id=\"T_569e70ac_6a10_11ea_a87d_681401f753c5row0_col6\" class=\"data row0 col6\" >0.949598</td>\n",
       "                        <td id=\"T_569e70ac_6a10_11ea_a87d_681401f753c5row0_col7\" class=\"data row0 col7\" >0.914814</td>\n",
       "            </tr>\n",
       "            <tr>\n",
       "                        <th id=\"T_569e70ac_6a10_11ea_a87d_681401f753c5level0_row1\" class=\"row_heading level0 row1\" >total_wins</th>\n",
       "                        <td id=\"T_569e70ac_6a10_11ea_a87d_681401f753c5row1_col0\" class=\"data row1 col0\" >0.887964</td>\n",
       "                        <td id=\"T_569e70ac_6a10_11ea_a87d_681401f753c5row1_col1\" class=\"data row1 col1\" >1.000000</td>\n",
       "                        <td id=\"T_569e70ac_6a10_11ea_a87d_681401f753c5row1_col2\" class=\"data row1 col2\" >0.560330</td>\n",
       "                        <td id=\"T_569e70ac_6a10_11ea_a87d_681401f753c5row1_col3\" class=\"data row1 col3\" >0.944465</td>\n",
       "                        <td id=\"T_569e70ac_6a10_11ea_a87d_681401f753c5row1_col4\" class=\"data row1 col4\" >0.906658</td>\n",
       "                        <td id=\"T_569e70ac_6a10_11ea_a87d_681401f753c5row1_col5\" class=\"data row1 col5\" >0.855386</td>\n",
       "                        <td id=\"T_569e70ac_6a10_11ea_a87d_681401f753c5row1_col6\" class=\"data row1 col6\" >0.884865</td>\n",
       "                        <td id=\"T_569e70ac_6a10_11ea_a87d_681401f753c5row1_col7\" class=\"data row1 col7\" >0.881565</td>\n",
       "            </tr>\n",
       "            <tr>\n",
       "                        <th id=\"T_569e70ac_6a10_11ea_a87d_681401f753c5level0_row2\" class=\"row_heading level0 row2\" >total_loss</th>\n",
       "                        <td id=\"T_569e70ac_6a10_11ea_a87d_681401f753c5row2_col0\" class=\"data row2 col0\" >0.878356</td>\n",
       "                        <td id=\"T_569e70ac_6a10_11ea_a87d_681401f753c5row2_col1\" class=\"data row2 col1\" >0.560330</td>\n",
       "                        <td id=\"T_569e70ac_6a10_11ea_a87d_681401f753c5row2_col2\" class=\"data row2 col2\" >1.000000</td>\n",
       "                        <td id=\"T_569e70ac_6a10_11ea_a87d_681401f753c5row2_col3\" class=\"data row2 col3\" >0.261150</td>\n",
       "                        <td id=\"T_569e70ac_6a10_11ea_a87d_681401f753c5row2_col4\" class=\"data row2 col4\" >0.812837</td>\n",
       "                        <td id=\"T_569e70ac_6a10_11ea_a87d_681401f753c5row2_col5\" class=\"data row2 col5\" >0.885040</td>\n",
       "                        <td id=\"T_569e70ac_6a10_11ea_a87d_681401f753c5row2_col6\" class=\"data row2 col6\" >0.790564</td>\n",
       "                        <td id=\"T_569e70ac_6a10_11ea_a87d_681401f753c5row2_col7\" class=\"data row2 col7\" >0.731682</td>\n",
       "            </tr>\n",
       "            <tr>\n",
       "                        <th id=\"T_569e70ac_6a10_11ea_a87d_681401f753c5level0_row3\" class=\"row_heading level0 row3\" >mm_points</th>\n",
       "                        <td id=\"T_569e70ac_6a10_11ea_a87d_681401f753c5row3_col0\" class=\"data row3 col0\" >0.689930</td>\n",
       "                        <td id=\"T_569e70ac_6a10_11ea_a87d_681401f753c5row3_col1\" class=\"data row3 col1\" >0.944465</td>\n",
       "                        <td id=\"T_569e70ac_6a10_11ea_a87d_681401f753c5row3_col2\" class=\"data row3 col2\" >0.261150</td>\n",
       "                        <td id=\"T_569e70ac_6a10_11ea_a87d_681401f753c5row3_col3\" class=\"data row3 col3\" >1.000000</td>\n",
       "                        <td id=\"T_569e70ac_6a10_11ea_a87d_681401f753c5row3_col4\" class=\"data row3 col4\" >0.740193</td>\n",
       "                        <td id=\"T_569e70ac_6a10_11ea_a87d_681401f753c5row3_col5\" class=\"data row3 col5\" >0.651729</td>\n",
       "                        <td id=\"T_569e70ac_6a10_11ea_a87d_681401f753c5row3_col6\" class=\"data row3 col6\" >0.723895</td>\n",
       "                        <td id=\"T_569e70ac_6a10_11ea_a87d_681401f753c5row3_col7\" class=\"data row3 col7\" >0.743512</td>\n",
       "            </tr>\n",
       "            <tr>\n",
       "                        <th id=\"T_569e70ac_6a10_11ea_a87d_681401f753c5level0_row4\" class=\"row_heading level0 row4\" >kills</th>\n",
       "                        <td id=\"T_569e70ac_6a10_11ea_a87d_681401f753c5row4_col0\" class=\"data row4 col0\" >0.974546</td>\n",
       "                        <td id=\"T_569e70ac_6a10_11ea_a87d_681401f753c5row4_col1\" class=\"data row4 col1\" >0.906658</td>\n",
       "                        <td id=\"T_569e70ac_6a10_11ea_a87d_681401f753c5row4_col2\" class=\"data row4 col2\" >0.812837</td>\n",
       "                        <td id=\"T_569e70ac_6a10_11ea_a87d_681401f753c5row4_col3\" class=\"data row4 col3\" >0.740193</td>\n",
       "                        <td id=\"T_569e70ac_6a10_11ea_a87d_681401f753c5row4_col4\" class=\"data row4 col4\" >1.000000</td>\n",
       "                        <td id=\"T_569e70ac_6a10_11ea_a87d_681401f753c5row4_col5\" class=\"data row4 col5\" >0.973337</td>\n",
       "                        <td id=\"T_569e70ac_6a10_11ea_a87d_681401f753c5row4_col6\" class=\"data row4 col6\" >0.956963</td>\n",
       "                        <td id=\"T_569e70ac_6a10_11ea_a87d_681401f753c5row4_col7\" class=\"data row4 col7\" >0.954986</td>\n",
       "            </tr>\n",
       "            <tr>\n",
       "                        <th id=\"T_569e70ac_6a10_11ea_a87d_681401f753c5level0_row5\" class=\"row_heading level0 row5\" >death</th>\n",
       "                        <td id=\"T_569e70ac_6a10_11ea_a87d_681401f753c5row5_col0\" class=\"data row5 col0\" >0.984908</td>\n",
       "                        <td id=\"T_569e70ac_6a10_11ea_a87d_681401f753c5row5_col1\" class=\"data row5 col1\" >0.855386</td>\n",
       "                        <td id=\"T_569e70ac_6a10_11ea_a87d_681401f753c5row5_col2\" class=\"data row5 col2\" >0.885040</td>\n",
       "                        <td id=\"T_569e70ac_6a10_11ea_a87d_681401f753c5row5_col3\" class=\"data row5 col3\" >0.651729</td>\n",
       "                        <td id=\"T_569e70ac_6a10_11ea_a87d_681401f753c5row5_col4\" class=\"data row5 col4\" >0.973337</td>\n",
       "                        <td id=\"T_569e70ac_6a10_11ea_a87d_681401f753c5row5_col5\" class=\"data row5 col5\" >1.000000</td>\n",
       "                        <td id=\"T_569e70ac_6a10_11ea_a87d_681401f753c5row5_col6\" class=\"data row5 col6\" >0.953071</td>\n",
       "                        <td id=\"T_569e70ac_6a10_11ea_a87d_681401f753c5row5_col7\" class=\"data row5 col7\" >0.910926</td>\n",
       "            </tr>\n",
       "            <tr>\n",
       "                        <th id=\"T_569e70ac_6a10_11ea_a87d_681401f753c5level0_row6\" class=\"row_heading level0 row6\" >assist</th>\n",
       "                        <td id=\"T_569e70ac_6a10_11ea_a87d_681401f753c5row6_col0\" class=\"data row6 col0\" >0.949598</td>\n",
       "                        <td id=\"T_569e70ac_6a10_11ea_a87d_681401f753c5row6_col1\" class=\"data row6 col1\" >0.884865</td>\n",
       "                        <td id=\"T_569e70ac_6a10_11ea_a87d_681401f753c5row6_col2\" class=\"data row6 col2\" >0.790564</td>\n",
       "                        <td id=\"T_569e70ac_6a10_11ea_a87d_681401f753c5row6_col3\" class=\"data row6 col3\" >0.723895</td>\n",
       "                        <td id=\"T_569e70ac_6a10_11ea_a87d_681401f753c5row6_col4\" class=\"data row6 col4\" >0.956963</td>\n",
       "                        <td id=\"T_569e70ac_6a10_11ea_a87d_681401f753c5row6_col5\" class=\"data row6 col5\" >0.953071</td>\n",
       "                        <td id=\"T_569e70ac_6a10_11ea_a87d_681401f753c5row6_col6\" class=\"data row6 col6\" >1.000000</td>\n",
       "                        <td id=\"T_569e70ac_6a10_11ea_a87d_681401f753c5row6_col7\" class=\"data row6 col7\" >0.901647</td>\n",
       "            </tr>\n",
       "            <tr>\n",
       "                        <th id=\"T_569e70ac_6a10_11ea_a87d_681401f753c5level0_row7\" class=\"row_heading level0 row7\" >hs</th>\n",
       "                        <td id=\"T_569e70ac_6a10_11ea_a87d_681401f753c5row7_col0\" class=\"data row7 col0\" >0.914814</td>\n",
       "                        <td id=\"T_569e70ac_6a10_11ea_a87d_681401f753c5row7_col1\" class=\"data row7 col1\" >0.881565</td>\n",
       "                        <td id=\"T_569e70ac_6a10_11ea_a87d_681401f753c5row7_col2\" class=\"data row7 col2\" >0.731682</td>\n",
       "                        <td id=\"T_569e70ac_6a10_11ea_a87d_681401f753c5row7_col3\" class=\"data row7 col3\" >0.743512</td>\n",
       "                        <td id=\"T_569e70ac_6a10_11ea_a87d_681401f753c5row7_col4\" class=\"data row7 col4\" >0.954986</td>\n",
       "                        <td id=\"T_569e70ac_6a10_11ea_a87d_681401f753c5row7_col5\" class=\"data row7 col5\" >0.910926</td>\n",
       "                        <td id=\"T_569e70ac_6a10_11ea_a87d_681401f753c5row7_col6\" class=\"data row7 col6\" >0.901647</td>\n",
       "                        <td id=\"T_569e70ac_6a10_11ea_a87d_681401f753c5row7_col7\" class=\"data row7 col7\" >1.000000</td>\n",
       "            </tr>\n",
       "    </tbody></table>"
      ],
      "text/plain": [
       "<pandas.io.formats.style.Styler at 0x7f2add4152e8>"
      ]
     },
     "execution_count": 63,
     "metadata": {},
     "output_type": "execute_result"
    }
   ],
   "source": [
    "mmcorr = mm_stats.corr()\n",
    "mmcorr.style.background_gradient()"
   ]
  },
  {
   "cell_type": "code",
   "execution_count": 64,
   "metadata": {},
   "outputs": [
    {
     "data": {
      "text/html": [
       "<style  type=\"text/css\" >\n",
       "    #T_6c93c22c_6a10_11ea_a87d_681401f753c5row0_col0 {\n",
       "            background-color:  #023858;\n",
       "            color:  #f1f1f1;\n",
       "        }    #T_6c93c22c_6a10_11ea_a87d_681401f753c5row0_col1 {\n",
       "            background-color:  #1379b5;\n",
       "            color:  #f1f1f1;\n",
       "        }    #T_6c93c22c_6a10_11ea_a87d_681401f753c5row0_col2 {\n",
       "            background-color:  #045f95;\n",
       "            color:  #f1f1f1;\n",
       "        }    #T_6c93c22c_6a10_11ea_a87d_681401f753c5row0_col3 {\n",
       "            background-color:  #2a88bc;\n",
       "            color:  #000000;\n",
       "        }    #T_6c93c22c_6a10_11ea_a87d_681401f753c5row0_col4 {\n",
       "            background-color:  #1b7eb7;\n",
       "            color:  #000000;\n",
       "        }    #T_6c93c22c_6a10_11ea_a87d_681401f753c5row0_col5 {\n",
       "            background-color:  #2d8abd;\n",
       "            color:  #000000;\n",
       "        }    #T_6c93c22c_6a10_11ea_a87d_681401f753c5row0_col6 {\n",
       "            background-color:  #75a9cf;\n",
       "            color:  #000000;\n",
       "        }    #T_6c93c22c_6a10_11ea_a87d_681401f753c5row1_col0 {\n",
       "            background-color:  #2a88bc;\n",
       "            color:  #000000;\n",
       "        }    #T_6c93c22c_6a10_11ea_a87d_681401f753c5row1_col1 {\n",
       "            background-color:  #023858;\n",
       "            color:  #f1f1f1;\n",
       "        }    #T_6c93c22c_6a10_11ea_a87d_681401f753c5row1_col2 {\n",
       "            background-color:  #2a88bc;\n",
       "            color:  #000000;\n",
       "        }    #T_6c93c22c_6a10_11ea_a87d_681401f753c5row1_col3 {\n",
       "            background-color:  #4295c3;\n",
       "            color:  #000000;\n",
       "        }    #T_6c93c22c_6a10_11ea_a87d_681401f753c5row1_col4 {\n",
       "            background-color:  #1077b4;\n",
       "            color:  #f1f1f1;\n",
       "        }    #T_6c93c22c_6a10_11ea_a87d_681401f753c5row1_col5 {\n",
       "            background-color:  #89b1d4;\n",
       "            color:  #000000;\n",
       "        }    #T_6c93c22c_6a10_11ea_a87d_681401f753c5row1_col6 {\n",
       "            background-color:  #056dac;\n",
       "            color:  #f1f1f1;\n",
       "        }    #T_6c93c22c_6a10_11ea_a87d_681401f753c5row2_col0 {\n",
       "            background-color:  #045e93;\n",
       "            color:  #f1f1f1;\n",
       "        }    #T_6c93c22c_6a10_11ea_a87d_681401f753c5row2_col1 {\n",
       "            background-color:  #0f76b3;\n",
       "            color:  #f1f1f1;\n",
       "        }    #T_6c93c22c_6a10_11ea_a87d_681401f753c5row2_col2 {\n",
       "            background-color:  #023858;\n",
       "            color:  #f1f1f1;\n",
       "        }    #T_6c93c22c_6a10_11ea_a87d_681401f753c5row2_col3 {\n",
       "            background-color:  #1278b4;\n",
       "            color:  #f1f1f1;\n",
       "        }    #T_6c93c22c_6a10_11ea_a87d_681401f753c5row2_col4 {\n",
       "            background-color:  #2987bc;\n",
       "            color:  #000000;\n",
       "        }    #T_6c93c22c_6a10_11ea_a87d_681401f753c5row2_col5 {\n",
       "            background-color:  #0c74b2;\n",
       "            color:  #f1f1f1;\n",
       "        }    #T_6c93c22c_6a10_11ea_a87d_681401f753c5row2_col6 {\n",
       "            background-color:  #6ba5cd;\n",
       "            color:  #000000;\n",
       "        }    #T_6c93c22c_6a10_11ea_a87d_681401f753c5row3_col0 {\n",
       "            background-color:  #4496c3;\n",
       "            color:  #000000;\n",
       "        }    #T_6c93c22c_6a10_11ea_a87d_681401f753c5row3_col1 {\n",
       "            background-color:  #3d93c2;\n",
       "            color:  #000000;\n",
       "        }    #T_6c93c22c_6a10_11ea_a87d_681401f753c5row3_col2 {\n",
       "            background-color:  #2987bc;\n",
       "            color:  #000000;\n",
       "        }    #T_6c93c22c_6a10_11ea_a87d_681401f753c5row3_col3 {\n",
       "            background-color:  #023858;\n",
       "            color:  #f1f1f1;\n",
       "        }    #T_6c93c22c_6a10_11ea_a87d_681401f753c5row3_col4 {\n",
       "            background-color:  #2a88bc;\n",
       "            color:  #000000;\n",
       "        }    #T_6c93c22c_6a10_11ea_a87d_681401f753c5row3_col5 {\n",
       "            background-color:  #83afd3;\n",
       "            color:  #000000;\n",
       "        }    #T_6c93c22c_6a10_11ea_a87d_681401f753c5row3_col6 {\n",
       "            background-color:  #81aed2;\n",
       "            color:  #000000;\n",
       "        }    #T_6c93c22c_6a10_11ea_a87d_681401f753c5row4_col0 {\n",
       "            background-color:  #b5c4df;\n",
       "            color:  #000000;\n",
       "        }    #T_6c93c22c_6a10_11ea_a87d_681401f753c5row4_col1 {\n",
       "            background-color:  #78abd0;\n",
       "            color:  #000000;\n",
       "        }    #T_6c93c22c_6a10_11ea_a87d_681401f753c5row4_col2 {\n",
       "            background-color:  #d6d6e9;\n",
       "            color:  #000000;\n",
       "        }    #T_6c93c22c_6a10_11ea_a87d_681401f753c5row4_col3 {\n",
       "            background-color:  #adc1dd;\n",
       "            color:  #000000;\n",
       "        }    #T_6c93c22c_6a10_11ea_a87d_681401f753c5row4_col4 {\n",
       "            background-color:  #023858;\n",
       "            color:  #f1f1f1;\n",
       "        }    #T_6c93c22c_6a10_11ea_a87d_681401f753c5row4_col5 {\n",
       "            background-color:  #fff7fb;\n",
       "            color:  #000000;\n",
       "        }    #T_6c93c22c_6a10_11ea_a87d_681401f753c5row4_col6 {\n",
       "            background-color:  #8bb2d4;\n",
       "            color:  #000000;\n",
       "        }    #T_6c93c22c_6a10_11ea_a87d_681401f753c5row5_col0 {\n",
       "            background-color:  #d4d4e8;\n",
       "            color:  #000000;\n",
       "        }    #T_6c93c22c_6a10_11ea_a87d_681401f753c5row5_col1 {\n",
       "            background-color:  #fff7fb;\n",
       "            color:  #000000;\n",
       "        }    #T_6c93c22c_6a10_11ea_a87d_681401f753c5row5_col2 {\n",
       "            background-color:  #9ebad9;\n",
       "            color:  #000000;\n",
       "        }    #T_6c93c22c_6a10_11ea_a87d_681401f753c5row5_col3 {\n",
       "            background-color:  #fff7fb;\n",
       "            color:  #000000;\n",
       "        }    #T_6c93c22c_6a10_11ea_a87d_681401f753c5row5_col4 {\n",
       "            background-color:  #fff7fb;\n",
       "            color:  #000000;\n",
       "        }    #T_6c93c22c_6a10_11ea_a87d_681401f753c5row5_col5 {\n",
       "            background-color:  #023858;\n",
       "            color:  #f1f1f1;\n",
       "        }    #T_6c93c22c_6a10_11ea_a87d_681401f753c5row5_col6 {\n",
       "            background-color:  #fff7fb;\n",
       "            color:  #000000;\n",
       "        }    #T_6c93c22c_6a10_11ea_a87d_681401f753c5row6_col0 {\n",
       "            background-color:  #fff7fb;\n",
       "            color:  #000000;\n",
       "        }    #T_6c93c22c_6a10_11ea_a87d_681401f753c5row6_col1 {\n",
       "            background-color:  #4094c3;\n",
       "            color:  #000000;\n",
       "        }    #T_6c93c22c_6a10_11ea_a87d_681401f753c5row6_col2 {\n",
       "            background-color:  #fff7fb;\n",
       "            color:  #000000;\n",
       "        }    #T_6c93c22c_6a10_11ea_a87d_681401f753c5row6_col3 {\n",
       "            background-color:  #f2ecf5;\n",
       "            color:  #000000;\n",
       "        }    #T_6c93c22c_6a10_11ea_a87d_681401f753c5row6_col4 {\n",
       "            background-color:  #79abd0;\n",
       "            color:  #000000;\n",
       "        }    #T_6c93c22c_6a10_11ea_a87d_681401f753c5row6_col5 {\n",
       "            background-color:  #f3edf5;\n",
       "            color:  #000000;\n",
       "        }    #T_6c93c22c_6a10_11ea_a87d_681401f753c5row6_col6 {\n",
       "            background-color:  #023858;\n",
       "            color:  #f1f1f1;\n",
       "        }</style><table id=\"T_6c93c22c_6a10_11ea_a87d_681401f753c5\" ><thead>    <tr>        <th class=\"blank level0\" ></th>        <th class=\"col_heading level0 col0\" >total_played</th>        <th class=\"col_heading level0 col1\" >kills</th>        <th class=\"col_heading level0 col2\" >deaths</th>        <th class=\"col_heading level0 col3\" >assists</th>        <th class=\"col_heading level0 col4\" >wins</th>        <th class=\"col_heading level0 col5\" >loss</th>        <th class=\"col_heading level0 col6\" >headshots</th>    </tr></thead><tbody>\n",
       "                <tr>\n",
       "                        <th id=\"T_6c93c22c_6a10_11ea_a87d_681401f753c5level0_row0\" class=\"row_heading level0 row0\" >total_played</th>\n",
       "                        <td id=\"T_6c93c22c_6a10_11ea_a87d_681401f753c5row0_col0\" class=\"data row0 col0\" >1.000000</td>\n",
       "                        <td id=\"T_6c93c22c_6a10_11ea_a87d_681401f753c5row0_col1\" class=\"data row0 col1\" >0.980313</td>\n",
       "                        <td id=\"T_6c93c22c_6a10_11ea_a87d_681401f753c5row0_col2\" class=\"data row0 col2\" >0.991676</td>\n",
       "                        <td id=\"T_6c93c22c_6a10_11ea_a87d_681401f753c5row0_col3\" class=\"data row0 col3\" >0.977086</td>\n",
       "                        <td id=\"T_6c93c22c_6a10_11ea_a87d_681401f753c5row0_col4\" class=\"data row0 col4\" >0.962017</td>\n",
       "                        <td id=\"T_6c93c22c_6a10_11ea_a87d_681401f753c5row0_col5\" class=\"data row0 col5\" >0.956470</td>\n",
       "                        <td id=\"T_6c93c22c_6a10_11ea_a87d_681401f753c5row0_col6\" class=\"data row0 col6\" >0.943267</td>\n",
       "            </tr>\n",
       "            <tr>\n",
       "                        <th id=\"T_6c93c22c_6a10_11ea_a87d_681401f753c5level0_row1\" class=\"row_heading level0 row1\" >kills</th>\n",
       "                        <td id=\"T_6c93c22c_6a10_11ea_a87d_681401f753c5row1_col0\" class=\"data row1 col0\" >0.980313</td>\n",
       "                        <td id=\"T_6c93c22c_6a10_11ea_a87d_681401f753c5row1_col1\" class=\"data row1 col1\" >1.000000</td>\n",
       "                        <td id=\"T_6c93c22c_6a10_11ea_a87d_681401f753c5row1_col2\" class=\"data row1 col2\" >0.981154</td>\n",
       "                        <td id=\"T_6c93c22c_6a10_11ea_a87d_681401f753c5row1_col3\" class=\"data row1 col3\" >0.973452</td>\n",
       "                        <td id=\"T_6c93c22c_6a10_11ea_a87d_681401f753c5row1_col4\" class=\"data row1 col4\" >0.965331</td>\n",
       "                        <td id=\"T_6c93c22c_6a10_11ea_a87d_681401f753c5row1_col5\" class=\"data row1 col5\" >0.931750</td>\n",
       "                        <td id=\"T_6c93c22c_6a10_11ea_a87d_681401f753c5row1_col6\" class=\"data row1 col6\" >0.973025</td>\n",
       "            </tr>\n",
       "            <tr>\n",
       "                        <th id=\"T_6c93c22c_6a10_11ea_a87d_681401f753c5level0_row2\" class=\"row_heading level0 row2\" >deaths</th>\n",
       "                        <td id=\"T_6c93c22c_6a10_11ea_a87d_681401f753c5row2_col0\" class=\"data row2 col0\" >0.991676</td>\n",
       "                        <td id=\"T_6c93c22c_6a10_11ea_a87d_681401f753c5row2_col1\" class=\"data row2 col1\" >0.981154</td>\n",
       "                        <td id=\"T_6c93c22c_6a10_11ea_a87d_681401f753c5row2_col2\" class=\"data row2 col2\" >1.000000</td>\n",
       "                        <td id=\"T_6c93c22c_6a10_11ea_a87d_681401f753c5row2_col3\" class=\"data row2 col3\" >0.981392</td>\n",
       "                        <td id=\"T_6c93c22c_6a10_11ea_a87d_681401f753c5row2_col4\" class=\"data row2 col4\" >0.957663</td>\n",
       "                        <td id=\"T_6c93c22c_6a10_11ea_a87d_681401f753c5row2_col5\" class=\"data row2 col5\" >0.967152</td>\n",
       "                        <td id=\"T_6c93c22c_6a10_11ea_a87d_681401f753c5row2_col6\" class=\"data row2 col6\" >0.945501</td>\n",
       "            </tr>\n",
       "            <tr>\n",
       "                        <th id=\"T_6c93c22c_6a10_11ea_a87d_681401f753c5level0_row3\" class=\"row_heading level0 row3\" >assists</th>\n",
       "                        <td id=\"T_6c93c22c_6a10_11ea_a87d_681401f753c5row3_col0\" class=\"data row3 col0\" >0.977086</td>\n",
       "                        <td id=\"T_6c93c22c_6a10_11ea_a87d_681401f753c5row3_col1\" class=\"data row3 col1\" >0.973452</td>\n",
       "                        <td id=\"T_6c93c22c_6a10_11ea_a87d_681401f753c5row3_col2\" class=\"data row3 col2\" >0.981392</td>\n",
       "                        <td id=\"T_6c93c22c_6a10_11ea_a87d_681401f753c5row3_col3\" class=\"data row3 col3\" >1.000000</td>\n",
       "                        <td id=\"T_6c93c22c_6a10_11ea_a87d_681401f753c5row3_col4\" class=\"data row3 col4\" >0.957183</td>\n",
       "                        <td id=\"T_6c93c22c_6a10_11ea_a87d_681401f753c5row3_col5\" class=\"data row3 col5\" >0.933927</td>\n",
       "                        <td id=\"T_6c93c22c_6a10_11ea_a87d_681401f753c5row3_col6\" class=\"data row3 col6\" >0.939418</td>\n",
       "            </tr>\n",
       "            <tr>\n",
       "                        <th id=\"T_6c93c22c_6a10_11ea_a87d_681401f753c5level0_row4\" class=\"row_heading level0 row4\" >wins</th>\n",
       "                        <td id=\"T_6c93c22c_6a10_11ea_a87d_681401f753c5row4_col0\" class=\"data row4 col0\" >0.962017</td>\n",
       "                        <td id=\"T_6c93c22c_6a10_11ea_a87d_681401f753c5row4_col1\" class=\"data row4 col1\" >0.965331</td>\n",
       "                        <td id=\"T_6c93c22c_6a10_11ea_a87d_681401f753c5row4_col2\" class=\"data row4 col2\" >0.957663</td>\n",
       "                        <td id=\"T_6c93c22c_6a10_11ea_a87d_681401f753c5row4_col3\" class=\"data row4 col3\" >0.957183</td>\n",
       "                        <td id=\"T_6c93c22c_6a10_11ea_a87d_681401f753c5row4_col4\" class=\"data row4 col4\" >1.000000</td>\n",
       "                        <td id=\"T_6c93c22c_6a10_11ea_a87d_681401f753c5row4_col5\" class=\"data row4 col5\" >0.876682</td>\n",
       "                        <td id=\"T_6c93c22c_6a10_11ea_a87d_681401f753c5row4_col6\" class=\"data row4 col6\" >0.936704</td>\n",
       "            </tr>\n",
       "            <tr>\n",
       "                        <th id=\"T_6c93c22c_6a10_11ea_a87d_681401f753c5level0_row5\" class=\"row_heading level0 row5\" >loss</th>\n",
       "                        <td id=\"T_6c93c22c_6a10_11ea_a87d_681401f753c5row5_col0\" class=\"data row5 col0\" >0.956470</td>\n",
       "                        <td id=\"T_6c93c22c_6a10_11ea_a87d_681401f753c5row5_col1\" class=\"data row5 col1\" >0.931750</td>\n",
       "                        <td id=\"T_6c93c22c_6a10_11ea_a87d_681401f753c5row5_col2\" class=\"data row5 col2\" >0.967152</td>\n",
       "                        <td id=\"T_6c93c22c_6a10_11ea_a87d_681401f753c5row5_col3\" class=\"data row5 col3\" >0.933927</td>\n",
       "                        <td id=\"T_6c93c22c_6a10_11ea_a87d_681401f753c5row5_col4\" class=\"data row5 col4\" >0.876682</td>\n",
       "                        <td id=\"T_6c93c22c_6a10_11ea_a87d_681401f753c5row5_col5\" class=\"data row5 col5\" >1.000000</td>\n",
       "                        <td id=\"T_6c93c22c_6a10_11ea_a87d_681401f753c5row5_col6\" class=\"data row5 col6\" >0.886583</td>\n",
       "            </tr>\n",
       "            <tr>\n",
       "                        <th id=\"T_6c93c22c_6a10_11ea_a87d_681401f753c5level0_row6\" class=\"row_heading level0 row6\" >headshots</th>\n",
       "                        <td id=\"T_6c93c22c_6a10_11ea_a87d_681401f753c5row6_col0\" class=\"data row6 col0\" >0.943267</td>\n",
       "                        <td id=\"T_6c93c22c_6a10_11ea_a87d_681401f753c5row6_col1\" class=\"data row6 col1\" >0.973025</td>\n",
       "                        <td id=\"T_6c93c22c_6a10_11ea_a87d_681401f753c5row6_col2\" class=\"data row6 col2\" >0.945501</td>\n",
       "                        <td id=\"T_6c93c22c_6a10_11ea_a87d_681401f753c5row6_col3\" class=\"data row6 col3\" >0.939418</td>\n",
       "                        <td id=\"T_6c93c22c_6a10_11ea_a87d_681401f753c5row6_col4\" class=\"data row6 col4\" >0.936704</td>\n",
       "                        <td id=\"T_6c93c22c_6a10_11ea_a87d_681401f753c5row6_col5\" class=\"data row6 col5\" >0.886583</td>\n",
       "                        <td id=\"T_6c93c22c_6a10_11ea_a87d_681401f753c5row6_col6\" class=\"data row6 col6\" >1.000000</td>\n",
       "            </tr>\n",
       "    </tbody></table>"
      ],
      "text/plain": [
       "<pandas.io.formats.style.Styler at 0x7f2add415390>"
      ]
     },
     "execution_count": 64,
     "metadata": {},
     "output_type": "execute_result"
    }
   ],
   "source": [
    "mthcorr = mth_stats.corr()\n",
    "mthcorr.style.background_gradient()"
   ]
  },
  {
   "cell_type": "code",
   "execution_count": 66,
   "metadata": {},
   "outputs": [],
   "source": [
    "matchmaking_stats.to_csv('matchmaking_stats.csv', index=False)\n",
    "monthly_stats.to_csv('monthly_stats.csv', index=False)\n",
    "players.to_csv('players.csv', index=False)"
   ]
  },
  {
   "cell_type": "code",
   "execution_count": null,
   "metadata": {},
   "outputs": [],
   "source": []
  }
 ],
 "metadata": {
  "kernelspec": {
   "display_name": "Python 3",
   "language": "python",
   "name": "python3"
  },
  "language_info": {
   "codemirror_mode": {
    "name": "ipython",
    "version": 3
   },
   "file_extension": ".py",
   "mimetype": "text/x-python",
   "name": "python",
   "nbconvert_exporter": "python",
   "pygments_lexer": "ipython3",
   "version": "3.6.9"
  }
 },
 "nbformat": 4,
 "nbformat_minor": 4
}
